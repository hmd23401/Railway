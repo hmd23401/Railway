{
    "cells": [
        {
            "metadata": {},
            "cell_type": "code",
            "source": "import numpy\nimport pandas as pd\nfrom keras.models import Sequential\nfrom keras.layers import Dense\nfrom keras.wrappers.scikit_learn import KerasClassifier\nfrom keras.utils import np_utils\nfrom sklearn.preprocessing import LabelEncoder",
            "execution_count": 5,
            "outputs": []
        },
        {
            "metadata": {},
            "cell_type": "code",
            "source": "\nimport types\nimport pandas as pd\nfrom botocore.client import Config\nimport ibm_boto3\n\ndef __iter__(self): return 0\n\n# @hidden_cell\n# The following code accesses a file in your IBM Cloud Object Storage. It includes your credentials.\n# You might want to remove those credentials before you share the notebook.\nclient_61b236dbccd64690ae8713bf329b81ad = ibm_boto3.client(service_name='s3',\n    ibm_api_key_id='pqwFJ9HIac3KnyauPag2N__eLVznWAGE-LXzxibTKBZX',\n    ibm_auth_endpoint=\"https://iam.ng.bluemix.net/oidc/token\",\n    config=Config(signature_version='oauth'),\n    endpoint_url='https://s3-api.us-geo.objectstorage.service.networklayer.com')\n\nbody = client_61b236dbccd64690ae8713bf329b81ad.get_object(Bucket='default-donotdelete-pr-brw51ls98ewcag',Key='Geodefect_edited.csv')['Body']\n# add missing __iter__ method, so pandas accepts body as file-like object\nif not hasattr(body, \"__iter__\"): body.__iter__ = types.MethodType( __iter__, body )\n\ndf_data_1 = pd.read_csv(body)\ndf_data_1.head()\n",
            "execution_count": 8,
            "outputs": [
                {
                    "output_type": "execute_result",
                    "execution_count": 8,
                    "data": {
                        "text/html": "<div>\n<style scoped>\n    .dataframe tbody tr th:only-of-type {\n        vertical-align: middle;\n    }\n\n    .dataframe tbody tr th {\n        vertical-align: top;\n    }\n\n    .dataframe thead th {\n        text-align: right;\n    }\n</style>\n<table border=\"1\" class=\"dataframe\">\n  <thead>\n    <tr style=\"text-align: right;\">\n      <th></th>\n      <th>GAUGE</th>\n      <th>UNLD_GAUGE</th>\n      <th>SUPER_ELE</th>\n      <th>TWIST_A</th>\n      <th>TWIST_B</th>\n      <th>SURF79_L</th>\n      <th>SURF79_R</th>\n      <th>ALIGN79_L</th>\n      <th>ALIGN79_R</th>\n      <th>ALIGN_31_L</th>\n      <th>...</th>\n      <th>SURF_31_R</th>\n      <th>SURF_62_L</th>\n      <th>SURF_62_R</th>\n      <th>CURVE</th>\n      <th>S_IDX</th>\n      <th>CANT_L</th>\n      <th>CANT_R</th>\n      <th>WEB_L</th>\n      <th>WEB_R</th>\n      <th>DEFECTS</th>\n    </tr>\n  </thead>\n  <tbody>\n    <tr>\n      <th>0</th>\n      <td>976</td>\n      <td>303</td>\n      <td>0</td>\n      <td>0</td>\n      <td>0</td>\n      <td>0</td>\n      <td>0</td>\n      <td>0</td>\n      <td>0</td>\n      <td>0</td>\n      <td>...</td>\n      <td>0</td>\n      <td>0</td>\n      <td>0</td>\n      <td>0</td>\n      <td>963</td>\n      <td>75</td>\n      <td>179</td>\n      <td>-0.615378</td>\n      <td>0.967985</td>\n      <td>NONE</td>\n    </tr>\n    <tr>\n      <th>1</th>\n      <td>1021</td>\n      <td>305</td>\n      <td>0</td>\n      <td>0</td>\n      <td>0</td>\n      <td>0</td>\n      <td>0</td>\n      <td>0</td>\n      <td>0</td>\n      <td>0</td>\n      <td>...</td>\n      <td>0</td>\n      <td>0</td>\n      <td>0</td>\n      <td>0</td>\n      <td>981</td>\n      <td>55</td>\n      <td>163</td>\n      <td>-0.846215</td>\n      <td>0.783823</td>\n      <td>NONE</td>\n    </tr>\n    <tr>\n      <th>2</th>\n      <td>1140</td>\n      <td>325</td>\n      <td>0</td>\n      <td>0</td>\n      <td>0</td>\n      <td>0</td>\n      <td>0</td>\n      <td>0</td>\n      <td>0</td>\n      <td>0</td>\n      <td>...</td>\n      <td>0</td>\n      <td>0</td>\n      <td>0</td>\n      <td>0</td>\n      <td>999</td>\n      <td>80</td>\n      <td>159</td>\n      <td>-0.580411</td>\n      <td>0.752885</td>\n      <td>NONE</td>\n    </tr>\n    <tr>\n      <th>3</th>\n      <td>1120</td>\n      <td>335</td>\n      <td>0</td>\n      <td>0</td>\n      <td>0</td>\n      <td>0</td>\n      <td>0</td>\n      <td>0</td>\n      <td>0</td>\n      <td>0</td>\n      <td>...</td>\n      <td>0</td>\n      <td>0</td>\n      <td>0</td>\n      <td>0</td>\n      <td>1017</td>\n      <td>15</td>\n      <td>-40</td>\n      <td>0.000000</td>\n      <td>0.000000</td>\n      <td>NONE</td>\n    </tr>\n    <tr>\n      <th>4</th>\n      <td>1119</td>\n      <td>354</td>\n      <td>0</td>\n      <td>0</td>\n      <td>0</td>\n      <td>0</td>\n      <td>0</td>\n      <td>0</td>\n      <td>0</td>\n      <td>0</td>\n      <td>...</td>\n      <td>0</td>\n      <td>0</td>\n      <td>0</td>\n      <td>0</td>\n      <td>1034</td>\n      <td>77</td>\n      <td>171</td>\n      <td>-0.610722</td>\n      <td>0.881027</td>\n      <td>NONE</td>\n    </tr>\n  </tbody>\n</table>\n<p>5 rows \u00d7 24 columns</p>\n</div>",
                        "text/plain": "   GAUGE  UNLD_GAUGE  SUPER_ELE  TWIST_A  TWIST_B  SURF79_L  SURF79_R  \\\n0    976         303          0        0        0         0         0   \n1   1021         305          0        0        0         0         0   \n2   1140         325          0        0        0         0         0   \n3   1120         335          0        0        0         0         0   \n4   1119         354          0        0        0         0         0   \n\n   ALIGN79_L  ALIGN79_R  ALIGN_31_L  ...  SURF_31_R  SURF_62_L  SURF_62_R  \\\n0          0          0           0  ...          0          0          0   \n1          0          0           0  ...          0          0          0   \n2          0          0           0  ...          0          0          0   \n3          0          0           0  ...          0          0          0   \n4          0          0           0  ...          0          0          0   \n\n   CURVE  S_IDX  CANT_L  CANT_R     WEB_L     WEB_R  DEFECTS  \n0      0    963      75     179 -0.615378  0.967985     NONE  \n1      0    981      55     163 -0.846215  0.783823     NONE  \n2      0    999      80     159 -0.580411  0.752885     NONE  \n3      0   1017      15     -40  0.000000  0.000000     NONE  \n4      0   1034      77     171 -0.610722  0.881027     NONE  \n\n[5 rows x 24 columns]"
                    },
                    "metadata": {}
                }
            ]
        },
        {
            "metadata": {},
            "cell_type": "code",
            "source": "dataframe = df_data_1",
            "execution_count": 22,
            "outputs": []
        },
        {
            "metadata": {},
            "cell_type": "code",
            "source": "defective = {'NONE':1, 'GAGEDEFECT':2, 'ALIGNDEFECT':3, 'GAGEALIGN':4, 'SURFACEDEFECT':5,'SURFACEALIGN':6}",
            "execution_count": 12,
            "outputs": []
        },
        {
            "metadata": {},
            "cell_type": "code",
            "source": "dataframe[[\"defective\"]] = pd.DataFrame([defective[item] for item in dataframe.DEFECTS])",
            "execution_count": 25,
            "outputs": []
        },
        {
            "metadata": {},
            "cell_type": "code",
            "source": "dataframe.head()",
            "execution_count": 26,
            "outputs": [
                {
                    "output_type": "execute_result",
                    "execution_count": 26,
                    "data": {
                        "text/html": "<div>\n<style scoped>\n    .dataframe tbody tr th:only-of-type {\n        vertical-align: middle;\n    }\n\n    .dataframe tbody tr th {\n        vertical-align: top;\n    }\n\n    .dataframe thead th {\n        text-align: right;\n    }\n</style>\n<table border=\"1\" class=\"dataframe\">\n  <thead>\n    <tr style=\"text-align: right;\">\n      <th></th>\n      <th>GAUGE</th>\n      <th>UNLD_GAUGE</th>\n      <th>SUPER_ELE</th>\n      <th>TWIST_A</th>\n      <th>TWIST_B</th>\n      <th>SURF79_L</th>\n      <th>SURF79_R</th>\n      <th>ALIGN79_L</th>\n      <th>ALIGN79_R</th>\n      <th>ALIGN_31_L</th>\n      <th>...</th>\n      <th>SURF_62_L</th>\n      <th>SURF_62_R</th>\n      <th>CURVE</th>\n      <th>S_IDX</th>\n      <th>CANT_L</th>\n      <th>CANT_R</th>\n      <th>WEB_L</th>\n      <th>WEB_R</th>\n      <th>DEFECTS</th>\n      <th>defective</th>\n    </tr>\n  </thead>\n  <tbody>\n    <tr>\n      <th>0</th>\n      <td>976</td>\n      <td>303</td>\n      <td>0</td>\n      <td>0</td>\n      <td>0</td>\n      <td>0</td>\n      <td>0</td>\n      <td>0</td>\n      <td>0</td>\n      <td>0</td>\n      <td>...</td>\n      <td>0</td>\n      <td>0</td>\n      <td>0</td>\n      <td>963</td>\n      <td>75</td>\n      <td>179</td>\n      <td>-0.615378</td>\n      <td>0.967985</td>\n      <td>NONE</td>\n      <td>1</td>\n    </tr>\n    <tr>\n      <th>1</th>\n      <td>1021</td>\n      <td>305</td>\n      <td>0</td>\n      <td>0</td>\n      <td>0</td>\n      <td>0</td>\n      <td>0</td>\n      <td>0</td>\n      <td>0</td>\n      <td>0</td>\n      <td>...</td>\n      <td>0</td>\n      <td>0</td>\n      <td>0</td>\n      <td>981</td>\n      <td>55</td>\n      <td>163</td>\n      <td>-0.846215</td>\n      <td>0.783823</td>\n      <td>NONE</td>\n      <td>1</td>\n    </tr>\n    <tr>\n      <th>2</th>\n      <td>1140</td>\n      <td>325</td>\n      <td>0</td>\n      <td>0</td>\n      <td>0</td>\n      <td>0</td>\n      <td>0</td>\n      <td>0</td>\n      <td>0</td>\n      <td>0</td>\n      <td>...</td>\n      <td>0</td>\n      <td>0</td>\n      <td>0</td>\n      <td>999</td>\n      <td>80</td>\n      <td>159</td>\n      <td>-0.580411</td>\n      <td>0.752885</td>\n      <td>NONE</td>\n      <td>1</td>\n    </tr>\n    <tr>\n      <th>3</th>\n      <td>1120</td>\n      <td>335</td>\n      <td>0</td>\n      <td>0</td>\n      <td>0</td>\n      <td>0</td>\n      <td>0</td>\n      <td>0</td>\n      <td>0</td>\n      <td>0</td>\n      <td>...</td>\n      <td>0</td>\n      <td>0</td>\n      <td>0</td>\n      <td>1017</td>\n      <td>15</td>\n      <td>-40</td>\n      <td>0.000000</td>\n      <td>0.000000</td>\n      <td>NONE</td>\n      <td>1</td>\n    </tr>\n    <tr>\n      <th>4</th>\n      <td>1119</td>\n      <td>354</td>\n      <td>0</td>\n      <td>0</td>\n      <td>0</td>\n      <td>0</td>\n      <td>0</td>\n      <td>0</td>\n      <td>0</td>\n      <td>0</td>\n      <td>...</td>\n      <td>0</td>\n      <td>0</td>\n      <td>0</td>\n      <td>1034</td>\n      <td>77</td>\n      <td>171</td>\n      <td>-0.610722</td>\n      <td>0.881027</td>\n      <td>NONE</td>\n      <td>1</td>\n    </tr>\n  </tbody>\n</table>\n<p>5 rows \u00d7 25 columns</p>\n</div>",
                        "text/plain": "   GAUGE  UNLD_GAUGE  SUPER_ELE  TWIST_A  TWIST_B  SURF79_L  SURF79_R  \\\n0    976         303          0        0        0         0         0   \n1   1021         305          0        0        0         0         0   \n2   1140         325          0        0        0         0         0   \n3   1120         335          0        0        0         0         0   \n4   1119         354          0        0        0         0         0   \n\n   ALIGN79_L  ALIGN79_R  ALIGN_31_L  ...  SURF_62_L  SURF_62_R  CURVE  S_IDX  \\\n0          0          0           0  ...          0          0      0    963   \n1          0          0           0  ...          0          0      0    981   \n2          0          0           0  ...          0          0      0    999   \n3          0          0           0  ...          0          0      0   1017   \n4          0          0           0  ...          0          0      0   1034   \n\n   CANT_L  CANT_R     WEB_L     WEB_R  DEFECTS  defective  \n0      75     179 -0.615378  0.967985     NONE          1  \n1      55     163 -0.846215  0.783823     NONE          1  \n2      80     159 -0.580411  0.752885     NONE          1  \n3      15     -40  0.000000  0.000000     NONE          1  \n4      77     171 -0.610722  0.881027     NONE          1  \n\n[5 rows x 25 columns]"
                    },
                    "metadata": {}
                }
            ]
        },
        {
            "metadata": {},
            "cell_type": "code",
            "source": "dataset = dataframe[[\"GAUGE\",\"UNLD_GAUGE\", \"SUPER_ELE\", \"TWIST_A\", \"TWIST_B\", \"SURF79_L\",\"SURF79_R\", \"ALIGN79_L\",\"ALIGN79_R\",\"ALIGN_31_L\",\"ALIGN_31_R\",\n            \"ALIGN_62_R\", \"SURF_31_L\", \"SURF_31_R\", \"SURF_62_L\", \"SURF_62_R\" ,\"CURVE\", \"CANT_L\", \"CANT_R\", \"WEB_L\", \"WEB_R\", \"DEFECTS\" ]].values",
            "execution_count": 30,
            "outputs": []
        },
        {
            "metadata": {},
            "cell_type": "code",
            "source": "X = dataset[:, 0:21].astype(float)\ny = dataset[:,21]",
            "execution_count": 33,
            "outputs": []
        },
        {
            "metadata": {},
            "cell_type": "code",
            "source": "seed =10\nnumpy.random.seed(seed)",
            "execution_count": 37,
            "outputs": []
        },
        {
            "metadata": {},
            "cell_type": "code",
            "source": "encoder = LabelEncoder()\nencoder.fit(y)\nencoded_Y = encoder.transform(y)\ndummy_y = np_utils.to_categorical(encoded_Y)  #dummy one-hot encoded y",
            "execution_count": 39,
            "outputs": []
        },
        {
            "metadata": {},
            "cell_type": "code",
            "source": "import tensorflow as tf\nfrom keras import backend as K\n\ndef auc(y_true, y_pred):\n    auc = tf.metrics.auc(y_true, y_pred)[1]\n    K.get_session().run(tf.local_variables_initializer())\n    return auc",
            "execution_count": 53,
            "outputs": []
        },
        {
            "metadata": {},
            "cell_type": "code",
            "source": "model = Sequential()\nmodel.add(Dense(4, input_dim = 21, kernel_initializer = \"normal\", activation = \"relu\"))\nmodel.add(Dense(6, kernel_initializer = \"normal\", activation = \"softmax\"))\n\n# Build Model...\n\nmodel.compile(loss='categorical_crossentropy', optimizer='adam',metrics=[auc])",
            "execution_count": 55,
            "outputs": []
        },
        {
            "metadata": {},
            "cell_type": "code",
            "source": "model.fit(X, dummy_y, epochs = 10, batch_size = 500)\nmodel.save(\"my_model.h5\")",
            "execution_count": 57,
            "outputs": [
                {
                    "output_type": "stream",
                    "text": "Epoch 1/10\n253602/253602 [==============================] - 5s 21us/step - loss: 0.0701 - auc: 0.9959\nEpoch 2/10\n253602/253602 [==============================] - 5s 21us/step - loss: 0.0692 - auc: 0.9963\nEpoch 3/10\n253602/253602 [==============================] - 5s 20us/step - loss: 0.0675 - auc: 0.9965\nEpoch 4/10\n253602/253602 [==============================] - 5s 21us/step - loss: 0.0659 - auc: 0.9967\nEpoch 5/10\n253602/253602 [==============================] - 5s 21us/step - loss: 0.0653 - auc: 0.9969\nEpoch 6/10\n253602/253602 [==============================] - 5s 21us/step - loss: 0.0640 - auc: 0.9971\nEpoch 7/10\n253602/253602 [==============================] - 5s 21us/step - loss: 0.0632 - auc: 0.9972\nEpoch 8/10\n253602/253602 [==============================] - 5s 21us/step - loss: 0.0622 - auc: 0.9973\nEpoch 9/10\n253602/253602 [==============================] - 5s 20us/step - loss: 0.0617 - auc: 0.9974\nEpoch 10/10\n253602/253602 [==============================] - 5s 20us/step - loss: 0.0608 - auc: 0.9975\n",
                    "name": "stdout"
                }
            ]
        }
    ],
    "metadata": {
        "kernelspec": {
            "name": "python36",
            "display_name": "Python 3.6 with Spark",
            "language": "python3"
        },
        "language_info": {
            "mimetype": "text/x-python",
            "nbconvert_exporter": "python",
            "name": "python",
            "pygments_lexer": "ipython3",
            "version": "3.6.8",
            "file_extension": ".py",
            "codemirror_mode": {
                "version": 3,
                "name": "ipython"
            }
        }
    },
    "nbformat": 4,
    "nbformat_minor": 1
}